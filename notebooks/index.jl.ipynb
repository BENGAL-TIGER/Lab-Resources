{
 "cells": [
  {
   "cell_type": "markdown",
   "metadata": {},
   "source": [
    "\n",
    "<p style=\"color: #461d7c; font-size: 250%; line-height:2em; margin-left:1em; font-weight:900; margin-top:-0.5em;\">\n",
    "BENGAL-TIGER Laboratory Resources</p>\n",
    "\n",
    "<div style=\"margin-top:-0.68em; padding-botton:0; margin-bottom:-0.5em; background-color:#fcf8e3; \">\n",
    "    <p style=\"text-align:right; background-color:#461D7C; color:#fcf8e3; padding-right:1em;\">a production of the BENGAL-TIGER Laboratory at the University of Alabama</p>\n",
    "  <div style=\"background-color:#fcf8e3; color:#461d7c; padding:0.6em 1em 0 1em; margin-bottom:0;\">A repository of digital resources.  \n",
    "\n",
    "+ [Project Jupyter](https://jupyter.org)\n",
    "+ [Dataquest.io Jupyter Notebook for Beginners: A Tutorial](https://www.dataquest.io/blog/jupyter-notebook-tutorial#thenotebookinterface)\n",
    "+ [Python.org](https://www.python.org) <span style=\"display:inline-block; vertical-align:text-bottom\"><a href=\"https://www.python.org\"><img style=\"height:1em;\" src=\"./assets/flatPYTHONlogo.png\" alt=\"python\"></a></span> \n",
    "+ [The Julia Programming Language](https://www.julialang.org) <span style=\"display:inline-block; vertical-align:bottom\"><a href=\"https://www.julialang.org\"><img style=\"height:1.25em\" src=\"./assets/juliaLOGO-three-balls.png\" alt=\"julia\" ></a></span> \n",
    "+ [Python For Data Science Jupyter Notebook Cheat Sheet](https://s3.amazonaws.com/assets.datacamp.com/blog_assets/Jupyter_Notebook_Cheat_Sheet.pdf)\n",
    "\n",
    "$$$$**Quickstart:**\n",
    "Double-click cells to edit. Execute cells with ⇧⏎. The Help menu is pretty good.\n",
    "  </div>\n",
    "  <p style = \"background-image: url(./assets/cream-tiles.png); background-color:blue; line-height: 2px; padding:0; margin-top:4px;\" >&nbsp;</p>\n",
    "</div>"
   ]
  },
  {
   "cell_type": "markdown",
   "metadata": {},
   "source": [
    "# LabVIEW"
   ]
  },
  {
   "cell_type": "markdown",
   "metadata": {},
   "source": [
    "### National Instruments: Getting Started with NI-DAQmx  \n",
    "The National Instruments Getting Started with NI-DAQmx Series is aimed at helping you learn NI-DAQmx programming fundamentals. Through video and text tutorials, this series will take you from verifying your device's operation in Measurement & Automation Explorer (MAX) to programming data acquisition applications using LabVIEW. It is intended for both the beginner who wants to learn how to use the DAQ Assistant, as well as the experienced user who wishes to take advantage of advanced NI-DAQmx functionality.  \n",
    "\n",
    " - [Learn 10 Functions in NI-DAQmx and Handle 80 Percent of Your Data Acquisition Applications](http://www.ni.com/product-documentation/2835/en/#toc1)  \n",
    " - [Advanced Programming with NI-DAQmx](http://www.ni.com/tutorial/5469/en/)"
   ]
  },
  {
   "cell_type": "markdown",
   "metadata": {},
   "source": [
    "### Microcontrollerslab.com   \n",
    "\n",
    "- [Labview introduction and overview](https://microcontrollerslab.com/labview-introduction-overview/)  \n",
    "- [Labview Programming with Examples](https://microcontrollerslab.com/labview-programming-examples/)  "
   ]
  },
  {
   "cell_type": "markdown",
   "metadata": {},
   "source": [
    "<p style = \"background-image: url(./assets/bacgroundTiles.png); background-color:#FDD023; line-height: 2px\" >&nbsp;</p>\n",
    "\n",
    "\n",
    "<div style=\"background-color:#fcf8e3; color:#461d7c;\">&nbsp;\n",
    "\n",
    "<!---\n",
    "\n",
    "<div class=\"badge\"></div><i class=\"fa fa-book\"></i><strong> Sources</strong></div>\n",
    "<div class=\"panel-warning\"><div class=\"panel-heading\">   \n",
    "\n",
    "<div style=\"display:table-row;\">\n",
    "  <div style=\"display:table-cell; text-align:right;\"><div class=\"badge\" style=\"width:100%; background-color:#461d7c;\">çb8</div></div>\n",
    "  <div style=\"display:table-cell; width:0.5em; line-height:2em;\">&nbsp;</div>\n",
    "  <div style=\"display:table-cell; color:#461d7c;\"> Çengel, YA and Boles, MA (2014) <i>Thermodynamics: An Engineering Approach, 8th Edition</i>, McGraw-Hill Education.</div>  \n",
    "</div>\n",
    "\n",
    "<div style=\"display:table-row;\">\n",
    "  <div style=\"display:table-cell;\"><div class=\"badge\" style=\"width:100%; background-color:#461d7c;\">ms9</div></div>\n",
    "  <div style=\"display:table-cell; width:0.5em; line-height:2em;\"></div>\n",
    "  <div style=\"display:table-cell; color:#461d7c;\">Moran KJ, Shapiro, HN, Boettner DD, Bailey, MB (2018) <i>Fundamentals of Engineering Thermodynamics, Enhanced eText, 9th Edition,</i> John Wiley &amp; Sons, Inc.</div>\n",
    "</div>\n",
    "\n",
    "</div>\n",
    "\n",
    "--->\n",
    "\n",
    "</div>\n",
    "\n",
    "\n",
    "<footer style=\"background-color: #461d7c; color:rgba(253,208,35,0.35); line-height:2em; padding-left:1em; padding-right:0.5em; bottom:0; float:bottom; text-align:right;\"><i>ψᵟ</i></footer>"
   ]
  }
 ],
 "metadata": {
  "kernelspec": {
   "display_name": "Julia 1.2.0-DEV",
   "language": "julia",
   "name": "julia-1.2"
  },
  "language_info": {
   "file_extension": ".jl",
   "mimetype": "application/julia",
   "name": "julia",
   "version": "1.2.0"
  },
  "varInspector": {
   "cols": {
    "lenName": 16,
    "lenType": 16,
    "lenVar": 40
   },
   "kernels_config": {
    "python": {
     "delete_cmd_postfix": "",
     "delete_cmd_prefix": "del ",
     "library": "var_list.py",
     "varRefreshCmd": "print(var_dic_list())"
    },
    "r": {
     "delete_cmd_postfix": ") ",
     "delete_cmd_prefix": "rm(",
     "library": "var_list.r",
     "varRefreshCmd": "cat(var_dic_list()) "
    }
   },
   "types_to_exclude": [
    "module",
    "function",
    "builtin_function_or_method",
    "instance",
    "_Feature"
   ],
   "window_display": true
  }
 },
 "nbformat": 4,
 "nbformat_minor": 2
}
