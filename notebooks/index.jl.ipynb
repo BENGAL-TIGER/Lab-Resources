{
 "cells": [
  {
   "cell_type": "markdown",
   "metadata": {},
   "source": [
    "![heading](./assets/header.png)"
   ]
  },
  {
   "cell_type": "markdown",
   "metadata": {},
   "source": [
    "### [LabVIEW](http://www.ni.com/manuals/)\n",
    "\n",
    "#### National Instruments: Getting Started with NI-DAQmx  \n",
    "\n",
    "- [Learn 10 Functions in NI-DAQmx and Handle 80 Percent of Your Data Acquisition Applications](http://www.ni.com/product-documentation/2835/en/#toc1)  \n",
    "- [Advanced Programming with NI-DAQmx](http://www.ni.com/tutorial/5469/en/)\n",
    "\n",
    "#### Microcontrollerslab.com  \n",
    "\n",
    "- [Labview introduction and overview](https://microcontrollerslab.com/labview-introduction-overview/)  \n",
    "- [Labview Programming with Examples](https://microcontrollerslab.com/labview-programming-examples/)  "
   ]
  },
  {
   "cell_type": "markdown",
   "metadata": {},
   "source": [
    "###  [Python](https://www.python.org)    \n",
    "- [Python For Data Science Jupyter Notebook Cheat Sheet](https://s3.amazonaws.com/assets.datacamp.com/blog_assets/Jupyter_Notebook_Cheat_Sheet.pdf)"
   ]
  },
  {
   "cell_type": "markdown",
   "metadata": {},
   "source": [
    "### [The Julia Programming Language](https://www.julialang.org)    \n",
    "Julia is a high-level, high-performance dynamic language for technical computing. The main homepage for Julia can be found at [julialang.org.](https://julialang.org/learning/)  \n",
    "- [Learning Julia](https://julialang.org/learning/)\n",
    "- Unitful.jl\n",
    "- Plots.jl\n"
   ]
  },
  {
   "cell_type": "markdown",
   "metadata": {},
   "source": [
    "### [The R Project for Statistical Computing](https://www.r-project.org)    \n",
    "R is a free software environment for statistical computing and graphics. It compiles and runs on a wide variety of UNIX platforms, Windows and MacOS. To download R, please choose your preferred CRAN mirror.  \n",
    "- Unitful.jl\n",
    "- Plots.jl\n"
   ]
  },
  {
   "cell_type": "markdown",
   "metadata": {},
   "source": [
    "###  [Project Jupyter](https://jupyter.org)\n",
    "+ [Dataquest.io Jupyter Notebook for Beginners: A Tutorial](https://www.dataquest.io/blog/jupyter-notebook-tutorial#thenotebookinterface)\n",
    "+ [Python For Data Science Jupyter Notebook Cheat Sheet](https://s3.amazonaws.com/assets.datacamp.com/blog_assets/Jupyter_Notebook_Cheat_Sheet.pdf)"
   ]
  },
  {
   "cell_type": "markdown",
   "metadata": {},
   "source": [
    "<p style = \"background-image: url(./assets/bacgroundTiles.png); background-color:#FDD023; line-height: 2px\" >&nbsp;</p>\n",
    "\n",
    "\n",
    "<div style=\"background-color:#fcf8e3; color:#461d7c;\">&nbsp;\n",
    "\n",
    "<!---\n",
    "\n",
    "<div class=\"badge\"></div><i class=\"fa fa-book\"></i><strong> Sources</strong></div>\n",
    "<div class=\"panel-warning\"><div class=\"panel-heading\">   \n",
    "\n",
    "<div style=\"display:table-row;\">\n",
    "  <div style=\"display:table-cell; text-align:right;\"><div class=\"badge\" style=\"width:100%; background-color:#461d7c;\">çb8</div></div>\n",
    "  <div style=\"display:table-cell; width:0.5em; line-height:2em;\">&nbsp;</div>\n",
    "  <div style=\"display:table-cell; color:#461d7c;\"> Çengel, YA and Boles, MA (2014) <i>Thermodynamics: An Engineering Approach, 8th Edition</i>, McGraw-Hill Education.</div>  \n",
    "</div>\n",
    "\n",
    "<div style=\"display:table-row;\">\n",
    "  <div style=\"display:table-cell;\"><div class=\"badge\" style=\"width:100%; background-color:#461d7c;\">ms9</div></div>\n",
    "  <div style=\"display:table-cell; width:0.5em; line-height:2em;\"></div>\n",
    "  <div style=\"display:table-cell; color:#461d7c;\">Moran KJ, Shapiro, HN, Boettner DD, Bailey, MB (2018) <i>Fundamentals of Engineering Thermodynamics, Enhanced eText, 9th Edition,</i> John Wiley &amp; Sons, Inc.</div>\n",
    "</div>\n",
    "\n",
    "</div>\n",
    "\n",
    "--->\n",
    "\n",
    "</div>\n",
    "\n",
    "\n",
    "<footer style=\"background-color: #461d7c; color:rgba(253,208,35,0.35); line-height:2em; padding-left:1em; padding-right:0.5em; bottom:0; float:bottom; text-align:right;\"><i>ψᵟ</i></footer>"
   ]
  }
 ],
 "metadata": {
  "kernelspec": {
   "display_name": "Julia 1.2.0-DEV",
   "language": "julia",
   "name": "julia-1.2"
  },
  "language_info": {
   "file_extension": ".jl",
   "mimetype": "application/julia",
   "name": "julia",
   "version": "1.2.0"
  },
  "varInspector": {
   "cols": {
    "lenName": 16,
    "lenType": 16,
    "lenVar": 40
   },
   "kernels_config": {
    "python": {
     "delete_cmd_postfix": "",
     "delete_cmd_prefix": "del ",
     "library": "var_list.py",
     "varRefreshCmd": "print(var_dic_list())"
    },
    "r": {
     "delete_cmd_postfix": ") ",
     "delete_cmd_prefix": "rm(",
     "library": "var_list.r",
     "varRefreshCmd": "cat(var_dic_list()) "
    }
   },
   "types_to_exclude": [
    "module",
    "function",
    "builtin_function_or_method",
    "instance",
    "_Feature"
   ],
   "window_display": true
  }
 },
 "nbformat": 4,
 "nbformat_minor": 2
}
